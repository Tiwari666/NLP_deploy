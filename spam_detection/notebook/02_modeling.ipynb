{
 "cells": [
  {
   "cell_type": "markdown",
   "id": "11ea12ed",
   "metadata": {},
   "source": [
    "# Differnt methods of  Converting text data into numerical features \n",
    "\n",
    "### Summary:\n",
    "\n",
    "Bag of Words (BoW): Simple, but ignores word order.\n",
    "\n",
    "TF-IDF: Weighs words based on their importance.\n",
    "\n",
    "Word2Vec: Uses dense vectors to capture semantic meaning.\n",
    "\n",
    "GloVe: Similar to Word2Vec but uses co-occurrence matrices.\n",
    "\n",
    "FastText: Handles out-of-vocabulary words better.\n",
    "\n",
    "Doc2Vec: Represents whole documents, not just words.\n",
    "\n",
    "N-grams: Captures some local context using sequences of words.\n",
    "\n",
    "### Which Method to Use?\n",
    "\n",
    "If you need a simple approach, start with TF-IDF or Bag of Words.\n",
    "\n",
    "For more sophisticated embeddings that capture word semantics, use Word2Vec, GloVe, or FastText.\n",
    "\n",
    "N-grams can be helpful if you believe word sequences are important."
   ]
  },
  {
   "cell_type": "markdown",
   "id": "17b8d860",
   "metadata": {},
   "source": [
    "# Let's do the Text Vectorization via using the TF-IDF: \n",
    "\n",
    "Convert text data into numerical features using methods like TF-IDF"
   ]
  },
  {
   "cell_type": "code",
   "execution_count": 2,
   "id": "6c6601d4",
   "metadata": {},
   "outputs": [
    {
     "name": "stdout",
     "output_type": "stream",
     "text": [
      "Collecting scikit-learn\n",
      "  Downloading scikit_learn-1.6.1-cp311-cp311-win_amd64.whl.metadata (15 kB)\n",
      "Requirement already satisfied: numpy>=1.19.5 in c:\\users\\naren\\appdata\\local\\programs\\python\\python311\\lib\\site-packages (from scikit-learn) (2.2.5)\n",
      "Collecting scipy>=1.6.0 (from scikit-learn)\n",
      "  Downloading scipy-1.15.2-cp311-cp311-win_amd64.whl.metadata (60 kB)\n",
      "     ---------------------------------------- 0.0/60.8 kB ? eta -:--:--\n",
      "     --------------------------------- ------ 51.2/60.8 kB 1.3 MB/s eta 0:00:01\n",
      "     ---------------------------------------- 60.8/60.8 kB 1.6 MB/s eta 0:00:00\n",
      "Collecting joblib>=1.2.0 (from scikit-learn)\n",
      "  Downloading joblib-1.5.0-py3-none-any.whl.metadata (5.6 kB)\n",
      "Collecting threadpoolctl>=3.1.0 (from scikit-learn)\n",
      "  Downloading threadpoolctl-3.6.0-py3-none-any.whl.metadata (13 kB)\n",
      "Downloading scikit_learn-1.6.1-cp311-cp311-win_amd64.whl (11.1 MB)\n",
      "   ---------------------------------------- 0.0/11.1 MB ? eta -:--:--\n",
      "    --------------------------------------- 0.2/11.1 MB 6.7 MB/s eta 0:00:02\n",
      "   -- ------------------------------------- 0.7/11.1 MB 9.2 MB/s eta 0:00:02\n",
      "   ---- ----------------------------------- 1.2/11.1 MB 9.2 MB/s eta 0:00:02\n",
      "   ------ --------------------------------- 1.7/11.1 MB 9.8 MB/s eta 0:00:01\n",
      "   ------- -------------------------------- 2.1/11.1 MB 9.6 MB/s eta 0:00:01\n",
      "   --------- ------------------------------ 2.7/11.1 MB 10.2 MB/s eta 0:00:01\n",
      "   ----------- ---------------------------- 3.3/11.1 MB 10.5 MB/s eta 0:00:01\n",
      "   ------------- -------------------------- 3.7/11.1 MB 10.3 MB/s eta 0:00:01\n",
      "   --------------- ------------------------ 4.3/11.1 MB 10.5 MB/s eta 0:00:01\n",
      "   ---------------- ----------------------- 4.7/11.1 MB 10.7 MB/s eta 0:00:01\n",
      "   ------------------ --------------------- 5.2/11.1 MB 10.4 MB/s eta 0:00:01\n",
      "   -------------------- ------------------- 5.7/11.1 MB 10.6 MB/s eta 0:00:01\n",
      "   ---------------------- ----------------- 6.2/11.1 MB 10.7 MB/s eta 0:00:01\n",
      "   ------------------------ --------------- 6.8/11.1 MB 10.8 MB/s eta 0:00:01\n",
      "   -------------------------- ------------- 7.3/11.1 MB 10.9 MB/s eta 0:00:01\n",
      "   ---------------------------- ----------- 7.9/11.1 MB 11.0 MB/s eta 0:00:01\n",
      "   ------------------------------ --------- 8.4/11.1 MB 11.0 MB/s eta 0:00:01\n",
      "   ------------------------------- -------- 8.9/11.1 MB 10.9 MB/s eta 0:00:01\n",
      "   --------------------------------- ------ 9.3/11.1 MB 10.8 MB/s eta 0:00:01\n",
      "   ----------------------------------- ---- 9.8/11.1 MB 10.8 MB/s eta 0:00:01\n",
      "   ------------------------------------ --- 10.1/11.1 MB 10.6 MB/s eta 0:00:01\n",
      "   ------------------------------------- -- 10.4/11.1 MB 10.6 MB/s eta 0:00:01\n",
      "   ---------------------------------------  10.9/11.1 MB 10.6 MB/s eta 0:00:01\n",
      "   ---------------------------------------  11.1/11.1 MB 10.6 MB/s eta 0:00:01\n",
      "   ---------------------------------------- 11.1/11.1 MB 9.8 MB/s eta 0:00:00\n",
      "Downloading joblib-1.5.0-py3-none-any.whl (307 kB)\n",
      "   ---------------------------------------- 0.0/307.7 kB ? eta -:--:--\n",
      "   --------------------------------------- 307.7/307.7 kB 19.8 MB/s eta 0:00:00\n",
      "Downloading scipy-1.15.2-cp311-cp311-win_amd64.whl (41.2 MB)\n",
      "   ---------------------------------------- 0.0/41.2 MB ? eta -:--:--\n",
      "   ---------------------------------------- 0.4/41.2 MB 8.7 MB/s eta 0:00:05\n",
      "   - -------------------------------------- 1.1/41.2 MB 13.2 MB/s eta 0:00:04\n",
      "   - -------------------------------------- 1.5/41.2 MB 11.6 MB/s eta 0:00:04\n",
      "   - -------------------------------------- 2.0/41.2 MB 11.5 MB/s eta 0:00:04\n",
      "   -- ------------------------------------- 2.6/41.2 MB 11.7 MB/s eta 0:00:04\n",
      "   -- ------------------------------------- 3.0/41.2 MB 11.2 MB/s eta 0:00:04\n",
      "   --- ------------------------------------ 3.5/41.2 MB 11.0 MB/s eta 0:00:04\n",
      "   --- ------------------------------------ 4.0/41.2 MB 11.0 MB/s eta 0:00:04\n",
      "   ---- ----------------------------------- 4.5/41.2 MB 11.1 MB/s eta 0:00:04\n",
      "   ---- ----------------------------------- 5.0/41.2 MB 11.1 MB/s eta 0:00:04\n",
      "   ----- ---------------------------------- 5.6/41.2 MB 11.2 MB/s eta 0:00:04\n",
      "   ----- ---------------------------------- 6.1/41.2 MB 11.1 MB/s eta 0:00:04\n",
      "   ------ --------------------------------- 6.5/41.2 MB 11.0 MB/s eta 0:00:04\n",
      "   ------ --------------------------------- 7.0/41.2 MB 11.0 MB/s eta 0:00:04\n",
      "   ------- -------------------------------- 7.6/41.2 MB 11.0 MB/s eta 0:00:04\n",
      "   ------- -------------------------------- 8.0/41.2 MB 11.2 MB/s eta 0:00:03\n",
      "   -------- ------------------------------- 8.5/41.2 MB 11.1 MB/s eta 0:00:03\n",
      "   -------- ------------------------------- 9.0/41.2 MB 11.1 MB/s eta 0:00:03\n",
      "   --------- ------------------------------ 9.6/41.2 MB 10.9 MB/s eta 0:00:03\n",
      "   --------- ------------------------------ 10.0/41.2 MB 11.0 MB/s eta 0:00:03\n",
      "   ---------- ----------------------------- 10.5/41.2 MB 10.9 MB/s eta 0:00:03\n",
      "   ---------- ----------------------------- 11.1/41.2 MB 10.9 MB/s eta 0:00:03\n",
      "   ----------- ---------------------------- 11.5/41.2 MB 10.9 MB/s eta 0:00:03\n",
      "   ----------- ---------------------------- 12.1/41.2 MB 10.9 MB/s eta 0:00:03\n",
      "   ------------ --------------------------- 12.5/41.2 MB 10.9 MB/s eta 0:00:03\n",
      "   ------------ --------------------------- 13.1/41.2 MB 10.9 MB/s eta 0:00:03\n",
      "   ------------- -------------------------- 13.6/41.2 MB 11.1 MB/s eta 0:00:03\n",
      "   ------------- -------------------------- 14.2/41.2 MB 11.1 MB/s eta 0:00:03\n",
      "   -------------- ------------------------- 14.8/41.2 MB 11.1 MB/s eta 0:00:03\n",
      "   -------------- ------------------------- 15.3/41.2 MB 11.3 MB/s eta 0:00:03\n",
      "   --------------- ------------------------ 15.9/41.2 MB 11.5 MB/s eta 0:00:03\n",
      "   ---------------- ----------------------- 16.6/41.2 MB 11.7 MB/s eta 0:00:03\n",
      "   ---------------- ----------------------- 17.1/41.2 MB 11.7 MB/s eta 0:00:03\n",
      "   ----------------- ---------------------- 17.5/41.2 MB 11.5 MB/s eta 0:00:03\n",
      "   ----------------- ---------------------- 17.7/41.2 MB 11.1 MB/s eta 0:00:03\n",
      "   ----------------- ---------------------- 18.3/41.2 MB 11.1 MB/s eta 0:00:03\n",
      "   ------------------ --------------------- 18.6/41.2 MB 11.1 MB/s eta 0:00:03\n",
      "   ------------------ --------------------- 19.1/41.2 MB 11.1 MB/s eta 0:00:02\n",
      "   ------------------ --------------------- 19.5/41.2 MB 10.9 MB/s eta 0:00:02\n",
      "   ------------------- -------------------- 19.7/41.2 MB 10.6 MB/s eta 0:00:03\n",
      "   ------------------- -------------------- 20.2/41.2 MB 10.6 MB/s eta 0:00:02\n",
      "   -------------------- ------------------- 20.7/41.2 MB 10.6 MB/s eta 0:00:02\n",
      "   -------------------- ------------------- 21.2/41.2 MB 10.4 MB/s eta 0:00:02\n",
      "   --------------------- ------------------ 21.7/41.2 MB 10.4 MB/s eta 0:00:02\n",
      "   --------------------- ------------------ 22.2/41.2 MB 10.6 MB/s eta 0:00:02\n",
      "   ---------------------- ----------------- 22.7/41.2 MB 10.6 MB/s eta 0:00:02\n",
      "   ---------------------- ----------------- 23.2/41.2 MB 10.6 MB/s eta 0:00:02\n",
      "   ---------------------- ----------------- 23.6/41.2 MB 10.4 MB/s eta 0:00:02\n",
      "   ----------------------- ---------------- 24.1/41.2 MB 10.4 MB/s eta 0:00:02\n",
      "   ----------------------- ---------------- 24.6/41.2 MB 10.4 MB/s eta 0:00:02\n",
      "   ------------------------ --------------- 25.2/41.2 MB 10.2 MB/s eta 0:00:02\n",
      "   ------------------------ --------------- 25.7/41.2 MB 10.2 MB/s eta 0:00:02\n",
      "   ------------------------- -------------- 26.1/41.2 MB 10.1 MB/s eta 0:00:02\n",
      "   ------------------------- -------------- 26.6/41.2 MB 10.1 MB/s eta 0:00:02\n",
      "   -------------------------- ------------- 27.1/41.2 MB 10.1 MB/s eta 0:00:02\n",
      "   -------------------------- ------------- 27.7/41.2 MB 10.1 MB/s eta 0:00:02\n",
      "   --------------------------- ------------ 28.2/41.2 MB 10.4 MB/s eta 0:00:02\n",
      "   --------------------------- ------------ 28.6/41.2 MB 10.4 MB/s eta 0:00:02\n",
      "   ---------------------------- ----------- 29.2/41.2 MB 10.4 MB/s eta 0:00:02\n",
      "   ---------------------------- ----------- 29.7/41.2 MB 10.7 MB/s eta 0:00:02\n",
      "   ----------------------------- ---------- 30.2/41.2 MB 11.1 MB/s eta 0:00:01\n",
      "   ----------------------------- ---------- 30.9/41.2 MB 10.9 MB/s eta 0:00:01\n",
      "   ------------------------------ --------- 31.4/41.2 MB 11.1 MB/s eta 0:00:01\n",
      "   ------------------------------ --------- 31.8/41.2 MB 10.9 MB/s eta 0:00:01\n",
      "   ------------------------------- -------- 32.2/41.2 MB 10.9 MB/s eta 0:00:01\n",
      "   ------------------------------- -------- 32.8/41.2 MB 11.1 MB/s eta 0:00:01\n",
      "   -------------------------------- ------- 33.2/41.2 MB 10.9 MB/s eta 0:00:01\n",
      "   -------------------------------- ------- 33.6/41.2 MB 10.9 MB/s eta 0:00:01\n",
      "   --------------------------------- ------ 34.3/41.2 MB 11.1 MB/s eta 0:00:01\n",
      "   --------------------------------- ------ 34.8/41.2 MB 11.1 MB/s eta 0:00:01\n",
      "   ---------------------------------- ----- 35.3/41.2 MB 11.1 MB/s eta 0:00:01\n",
      "   ---------------------------------- ----- 35.9/41.2 MB 11.1 MB/s eta 0:00:01\n",
      "   ----------------------------------- ---- 36.3/41.2 MB 11.1 MB/s eta 0:00:01\n",
      "   ----------------------------------- ---- 36.9/41.2 MB 11.1 MB/s eta 0:00:01\n",
      "   ------------------------------------ --- 37.3/41.2 MB 11.1 MB/s eta 0:00:01\n",
      "   ------------------------------------ --- 37.7/41.2 MB 10.9 MB/s eta 0:00:01\n",
      "   ------------------------------------- -- 38.2/41.2 MB 10.9 MB/s eta 0:00:01\n",
      "   ------------------------------------- -- 38.6/41.2 MB 10.7 MB/s eta 0:00:01\n",
      "   ------------------------------------- -- 39.1/41.2 MB 10.7 MB/s eta 0:00:01\n",
      "   -------------------------------------- - 39.7/41.2 MB 10.9 MB/s eta 0:00:01\n",
      "   -------------------------------------- - 40.0/41.2 MB 10.9 MB/s eta 0:00:01\n",
      "   ---------------------------------------  40.6/41.2 MB 10.7 MB/s eta 0:00:01\n",
      "   ---------------------------------------  41.1/41.2 MB 10.6 MB/s eta 0:00:01\n",
      "   ---------------------------------------  41.2/41.2 MB 10.4 MB/s eta 0:00:01\n",
      "   ---------------------------------------  41.2/41.2 MB 10.4 MB/s eta 0:00:01\n",
      "   ---------------------------------------- 41.2/41.2 MB 9.6 MB/s eta 0:00:00\n",
      "Downloading threadpoolctl-3.6.0-py3-none-any.whl (18 kB)\n",
      "Installing collected packages: threadpoolctl, scipy, joblib, scikit-learn\n",
      "Successfully installed joblib-1.5.0 scikit-learn-1.6.1 scipy-1.15.2 threadpoolctl-3.6.0\n",
      "Note: you may need to restart the kernel to use updated packages.\n"
     ]
    },
    {
     "name": "stderr",
     "output_type": "stream",
     "text": [
      "\n",
      "[notice] A new release of pip is available: 24.0 -> 25.1.1\n",
      "[notice] To update, run: python.exe -m pip install --upgrade pip\n"
     ]
    }
   ],
   "source": [
    "pip install scikit-learn"
   ]
  },
  {
   "cell_type": "markdown",
   "id": "9a0d72a3",
   "metadata": {},
   "source": [
    "# Import necessary libraries:"
   ]
  },
  {
   "cell_type": "code",
   "execution_count": 1,
   "id": "6c315c14",
   "metadata": {},
   "outputs": [],
   "source": [
    "from sklearn.feature_extraction.text import TfidfVectorizer\n",
    "from sklearn.metrics.pairwise import cosine_similarity\n",
    "from sklearn.metrics import pairwise_distances\n",
    "from sklearn.model_selection import train_test_split"
   ]
  },
  {
   "cell_type": "markdown",
   "id": "2a5bcabb",
   "metadata": {},
   "source": [
    "# Difffernt methods of gettting data in this module:\n",
    "\n",
    "## 1) Option 1: Load the Data in Each Notebook:"
   ]
  },
  {
   "cell_type": "code",
   "execution_count": 2,
   "id": "bff7bdd8",
   "metadata": {},
   "outputs": [],
   "source": [
    "import pandas as pd\n",
    "import numpy as np"
   ]
  },
  {
   "cell_type": "code",
   "execution_count": 3,
   "id": "cad0112e",
   "metadata": {},
   "outputs": [
    {
     "data": {
      "text/html": [
       "<div>\n",
       "<style scoped>\n",
       "    .dataframe tbody tr th:only-of-type {\n",
       "        vertical-align: middle;\n",
       "    }\n",
       "\n",
       "    .dataframe tbody tr th {\n",
       "        vertical-align: top;\n",
       "    }\n",
       "\n",
       "    .dataframe thead th {\n",
       "        text-align: right;\n",
       "    }\n",
       "</style>\n",
       "<table border=\"1\" class=\"dataframe\">\n",
       "  <thead>\n",
       "    <tr style=\"text-align: right;\">\n",
       "      <th></th>\n",
       "      <th>label</th>\n",
       "      <th>text</th>\n",
       "    </tr>\n",
       "  </thead>\n",
       "  <tbody>\n",
       "    <tr>\n",
       "      <th>0</th>\n",
       "      <td>ham</td>\n",
       "      <td>Go until jurong point, crazy.. Available only ...</td>\n",
       "    </tr>\n",
       "    <tr>\n",
       "      <th>1</th>\n",
       "      <td>ham</td>\n",
       "      <td>Ok lar... Joking wif u oni...</td>\n",
       "    </tr>\n",
       "    <tr>\n",
       "      <th>2</th>\n",
       "      <td>spam</td>\n",
       "      <td>Free entry in 2 a wkly comp to win FA Cup fina...</td>\n",
       "    </tr>\n",
       "    <tr>\n",
       "      <th>3</th>\n",
       "      <td>ham</td>\n",
       "      <td>U dun say so early hor... U c already then say...</td>\n",
       "    </tr>\n",
       "    <tr>\n",
       "      <th>4</th>\n",
       "      <td>ham</td>\n",
       "      <td>Nah I don't think he goes to usf, he lives aro...</td>\n",
       "    </tr>\n",
       "  </tbody>\n",
       "</table>\n",
       "</div>"
      ],
      "text/plain": [
       "  label                                               text\n",
       "0   ham  Go until jurong point, crazy.. Available only ...\n",
       "1   ham                      Ok lar... Joking wif u oni...\n",
       "2  spam  Free entry in 2 a wkly comp to win FA Cup fina...\n",
       "3   ham  U dun say so early hor... U c already then say...\n",
       "4   ham  Nah I don't think he goes to usf, he lives aro..."
      ]
     },
     "execution_count": 3,
     "metadata": {},
     "output_type": "execute_result"
    }
   ],
   "source": [
    "# Load the cleaned data in the second notebook\n",
    "df = pd.read_csv('../data/processed/cleaned_spam.csv')\n",
    "\n",
    "# Verify the data is loaded\n",
    "df.head()\n"
   ]
  },
  {
   "cell_type": "markdown",
   "id": "f993d12a",
   "metadata": {},
   "source": [
    "# Option 2: Use .py Scripts:"
   ]
  },
  {
   "cell_type": "code",
   "execution_count": 4,
   "id": "787e4f3b",
   "metadata": {},
   "outputs": [
    {
     "name": "stdout",
     "output_type": "stream",
     "text": [
      "Notebook working dir: c:\\Users\\naren\\Desktop\\New_DS\\spam_detection\\notebook\n"
     ]
    }
   ],
   "source": [
    "import os\n",
    "print(\"Notebook working dir:\", os.getcwd())"
   ]
  },
  {
   "cell_type": "code",
   "execution_count": 5,
   "id": "ff4e294f",
   "metadata": {},
   "outputs": [
    {
     "name": "stdout",
     "output_type": "stream",
     "text": [
      "Resolved path: c:\\Users\\naren\\Desktop\\New_DS\\spam_detection\\data\\processed\\cleaned_spam.csv\n",
      "<class 'pandas.core.frame.DataFrame'>\n",
      "RangeIndex: 5169 entries, 0 to 5168\n",
      "Data columns (total 2 columns):\n",
      " #   Column  Non-Null Count  Dtype \n",
      "---  ------  --------------  ----- \n",
      " 0   label   5169 non-null   object\n",
      " 1   text    5169 non-null   object\n",
      "dtypes: object(2)\n",
      "memory usage: 80.9+ KB\n"
     ]
    }
   ],
   "source": [
    "import sys\n",
    "sys.path.append('../')  # one level up to access 'source'\n",
    "\n",
    "from source.data_preprocessing import load_data\n",
    "\n",
    "# Load the data\n",
    "df = load_data()\n",
    "df.head()\n",
    "df.info()\n"
   ]
  },
  {
   "cell_type": "code",
   "execution_count": 6,
   "id": "30d6c271",
   "metadata": {},
   "outputs": [
    {
     "name": "stdout",
     "output_type": "stream",
     "text": [
      "Resolved path: c:\\Users\\naren\\Desktop\\New_DS\\spam_detection\\data\\processed\\cleaned_spam.csv\n"
     ]
    },
    {
     "data": {
      "text/html": [
       "<div>\n",
       "<style scoped>\n",
       "    .dataframe tbody tr th:only-of-type {\n",
       "        vertical-align: middle;\n",
       "    }\n",
       "\n",
       "    .dataframe tbody tr th {\n",
       "        vertical-align: top;\n",
       "    }\n",
       "\n",
       "    .dataframe thead th {\n",
       "        text-align: right;\n",
       "    }\n",
       "</style>\n",
       "<table border=\"1\" class=\"dataframe\">\n",
       "  <thead>\n",
       "    <tr style=\"text-align: right;\">\n",
       "      <th></th>\n",
       "      <th>label</th>\n",
       "      <th>text</th>\n",
       "    </tr>\n",
       "  </thead>\n",
       "  <tbody>\n",
       "    <tr>\n",
       "      <th>0</th>\n",
       "      <td>ham</td>\n",
       "      <td>Go until jurong point, crazy.. Available only ...</td>\n",
       "    </tr>\n",
       "    <tr>\n",
       "      <th>1</th>\n",
       "      <td>ham</td>\n",
       "      <td>Ok lar... Joking wif u oni...</td>\n",
       "    </tr>\n",
       "    <tr>\n",
       "      <th>2</th>\n",
       "      <td>spam</td>\n",
       "      <td>Free entry in 2 a wkly comp to win FA Cup fina...</td>\n",
       "    </tr>\n",
       "    <tr>\n",
       "      <th>3</th>\n",
       "      <td>ham</td>\n",
       "      <td>U dun say so early hor... U c already then say...</td>\n",
       "    </tr>\n",
       "    <tr>\n",
       "      <th>4</th>\n",
       "      <td>ham</td>\n",
       "      <td>Nah I don't think he goes to usf, he lives aro...</td>\n",
       "    </tr>\n",
       "  </tbody>\n",
       "</table>\n",
       "</div>"
      ],
      "text/plain": [
       "  label                                               text\n",
       "0   ham  Go until jurong point, crazy.. Available only ...\n",
       "1   ham                      Ok lar... Joking wif u oni...\n",
       "2  spam  Free entry in 2 a wkly comp to win FA Cup fina...\n",
       "3   ham  U dun say so early hor... U c already then say...\n",
       "4   ham  Nah I don't think he goes to usf, he lives aro..."
      ]
     },
     "execution_count": 6,
     "metadata": {},
     "output_type": "execute_result"
    }
   ],
   "source": [
    "\n",
    "# load your data\n",
    "df = load_data()\n",
    "df.head()"
   ]
  },
  {
   "attachments": {
    "image.png": {
     "image/png": "[encoded data removed]"
    }
   },
   "cell_type": "markdown",
   "id": "9075f2a6",
   "metadata": {},
   "source": [
    "# Perform Data Preprocessing:\n",
    "\n",
    "![image.png](attachment:image.png)"
   ]
  },
  {
   "cell_type": "markdown",
   "id": "69d262b1",
   "metadata": {},
   "source": [
    "# Lowercasing:\n"
   ]
  },
  {
   "cell_type": "code",
   "execution_count": 7,
   "id": "05565837",
   "metadata": {},
   "outputs": [
    {
     "data": {
      "text/html": [
       "<div>\n",
       "<style scoped>\n",
       "    .dataframe tbody tr th:only-of-type {\n",
       "        vertical-align: middle;\n",
       "    }\n",
       "\n",
       "    .dataframe tbody tr th {\n",
       "        vertical-align: top;\n",
       "    }\n",
       "\n",
       "    .dataframe thead th {\n",
       "        text-align: right;\n",
       "    }\n",
       "</style>\n",
       "<table border=\"1\" class=\"dataframe\">\n",
       "  <thead>\n",
       "    <tr style=\"text-align: right;\">\n",
       "      <th></th>\n",
       "      <th>label</th>\n",
       "      <th>text</th>\n",
       "    </tr>\n",
       "  </thead>\n",
       "  <tbody>\n",
       "    <tr>\n",
       "      <th>0</th>\n",
       "      <td>ham</td>\n",
       "      <td>Go until jurong point, crazy.. Available only ...</td>\n",
       "    </tr>\n",
       "    <tr>\n",
       "      <th>1</th>\n",
       "      <td>ham</td>\n",
       "      <td>Ok lar... Joking wif u oni...</td>\n",
       "    </tr>\n",
       "    <tr>\n",
       "      <th>2</th>\n",
       "      <td>spam</td>\n",
       "      <td>Free entry in 2 a wkly comp to win FA Cup fina...</td>\n",
       "    </tr>\n",
       "    <tr>\n",
       "      <th>3</th>\n",
       "      <td>ham</td>\n",
       "      <td>U dun say so early hor... U c already then say...</td>\n",
       "    </tr>\n",
       "    <tr>\n",
       "      <th>4</th>\n",
       "      <td>ham</td>\n",
       "      <td>Nah I don't think he goes to usf, he lives aro...</td>\n",
       "    </tr>\n",
       "  </tbody>\n",
       "</table>\n",
       "</div>"
      ],
      "text/plain": [
       "  label                                               text\n",
       "0   ham  Go until jurong point, crazy.. Available only ...\n",
       "1   ham                      Ok lar... Joking wif u oni...\n",
       "2  spam  Free entry in 2 a wkly comp to win FA Cup fina...\n",
       "3   ham  U dun say so early hor... U c already then say...\n",
       "4   ham  Nah I don't think he goes to usf, he lives aro..."
      ]
     },
     "execution_count": 7,
     "metadata": {},
     "output_type": "execute_result"
    }
   ],
   "source": [
    "df.head()"
   ]
  },
  {
   "cell_type": "code",
   "execution_count": 8,
   "id": "f2b06bf3",
   "metadata": {},
   "outputs": [],
   "source": [
    "# Convert all text to lowercase to maintain uniformity (e.g., \"Hello\" = \"hello\")\n",
    "# .str accesses string methods in a vectorized way (meaning for all rows in the column).\n",
    "# .lower() converts all letters in the text to lowercase.\n",
    "# Normally, we use to .lower() lowercase only one string.\n",
    "# However, df['text'] is a Series (column with many strings), not just one string.\n",
    "# So, we use .str.lower() to apply the lowercase conversion to all strings in the column.\n",
    "# This is a common preprocessing step in text analysis to ensure consistency in the data.\n",
    "\n",
    "df['clean_text'] = df['text'].str.lower()"
   ]
  },
  {
   "cell_type": "markdown",
   "id": "39226355",
   "metadata": {},
   "source": [
    "# Remove Punctuation & Special Characters\n",
    "\n",
    " import re                  => gives us access to regular expressions\n",
    "\n",
    " df['clean_text'].apply     => runs the function on each row of the 'clean_text' column\n",
    "\n",
    " lambda x: ...              => a short function where 'x' is each individual message\n",
    "\n",
    " re.sub(r'[^a-zA-Z\\s]', '', x):\n",
    "\n",
    "  - r'[^a-zA-Z\\s]'         => regex pattern to match any character that is NOT a letter or whitespace\n",
    "\n",
    "   - ''                     => replace that character with nothing (i.e., remove it)\n",
    "\n",
    "   - x                      => the text message being cleaned\n",
    "\n",
    "\\s: any whitespace character: Includes: spaces, tabs, newlines\n",
    "\n",
    "Inside square brackets [^...] → Negation: match anything except the characters listed\n",
    "\n",
    "re.sub(pattern, replacement, text)\n",
    "\n",
    "pattern: What you want to find (using regex)\n",
    "\n",
    "replacement: What you want to replace it with\n",
    "\n",
    "text: The string to apply it on\n",
    "\n",
    "re.sub(pattern, replacement, text)b: In Python’s re module, re.sub() stands for \"substitute\". It replaces parts of a string that match a pattern with something else.\n",
    "\n"
   ]
  },
  {
   "cell_type": "code",
   "execution_count": 9,
   "id": "21aef751",
   "metadata": {},
   "outputs": [],
   "source": [
    "import re  # Import Python's regular expressions module\n",
    "\n",
    "# Use regex to remove everything that's not a letter or space\n",
    "# We're updating the 'clean_text' column by applying a cleaning function to each row\n",
    "df['clean_text'] = df['text'].apply(\n",
    "    lambda x: re.sub(r'[^a-zA-Z\\s]', '', x)  # Remove everything except letters and spaces\n",
    ")\n",
    "# The regex pattern r'[^a-zA-Z\\s]' means:\n",
    "# - [^...] means \"not any of these characters\"\n",
    "# - a-z means \"any lowercase letter from a to z\"\n",
    "# - A-Z means \"any uppercase letter from A to Z\"\n",
    "# - \\s means \"any whitespace character (like space, tab, newline)\"\n",
    "# So, this pattern matches any character that is NOT a letter or whitespace.\n",
    "# The re.sub function replaces all occurrences of this pattern in the text with an empty string (i.e., removes them).\n",
    "# This effectively cleans the text by removing numbers, punctuation, and special characters.\n",
    "# The result is stored back in the 'clean_text' column of the DataFrame.\n",
    "# Regex: keep only letters (a-z, A-Z) and whitespace (\\s) #sub: substitute everything else with an empty string\n",
    "    # The lambda function takes each row (x) and applies the regex substitution"
   ]
  },
  {
   "cell_type": "markdown",
   "id": "5ea926f5",
   "metadata": {},
   "source": [
    "# Tokenization"
   ]
  },
  {
   "cell_type": "code",
   "execution_count": 10,
   "id": "19119f54",
   "metadata": {},
   "outputs": [],
   "source": [
    "# ✅ Split the sentence into individual words (called tokens)\n",
    "# - df['clean_text']: selects the column with cleaned text (as strings)\n",
    "# - .apply(...): applies a function to each row (each sentence)\n",
    "# - lambda x: x.split(): splits the sentence (x) into a list of words\n",
    "#     - .split() by default splits on spaces\n",
    "#     - turns \"hello world\" ➝ [\"hello\", \"world\"]\n",
    "\n",
    "df['clean_text'] = df['clean_text'].apply(lambda x: x.split())\n",
    "# This step is important for text analysis because it breaks down the text into manageable pieces (words) for further processing.\n",
    "# ✅ Remove stop words (common words that don't add much meaning, like \"the\", \"is\", \"and\")"
   ]
  },
  {
   "cell_type": "markdown",
   "id": "c9bec6f0",
   "metadata": {},
   "source": [
    "#  Removing stopwords"
   ]
  },
  {
   "cell_type": "code",
   "execution_count": 11,
   "id": "993280c6",
   "metadata": {},
   "outputs": [
    {
     "name": "stdout",
     "output_type": "stream",
     "text": [
      "Collecting nltk\n",
      "  Downloading nltk-3.9.1-py3-none-any.whl.metadata (2.9 kB)\n",
      "Collecting click (from nltk)\n",
      "  Downloading click-8.1.8-py3-none-any.whl.metadata (2.3 kB)\n",
      "Requirement already satisfied: joblib in c:\\users\\naren\\appdata\\local\\programs\\python\\python311\\lib\\site-packages (from nltk) (1.5.0)\n",
      "Collecting regex>=2021.8.3 (from nltk)\n",
      "  Downloading regex-2024.11.6-cp311-cp311-win_amd64.whl.metadata (41 kB)\n",
      "     ---------------------------------------- 0.0/41.5 kB ? eta -:--:--\n",
      "     ------------------- -------------------- 20.5/41.5 kB ? eta -:--:--\n",
      "     -------------------------------------- 41.5/41.5 kB 666.1 kB/s eta 0:00:00\n",
      "Collecting tqdm (from nltk)\n",
      "  Downloading tqdm-4.67.1-py3-none-any.whl.metadata (57 kB)\n",
      "     ---------------------------------------- 0.0/57.7 kB ? eta -:--:--\n",
      "     ---------------------------------------- 57.7/57.7 kB 3.0 MB/s eta 0:00:00\n",
      "Requirement already satisfied: colorama in c:\\users\\naren\\appdata\\roaming\\python\\python311\\site-packages (from click->nltk) (0.4.6)\n",
      "Downloading nltk-3.9.1-py3-none-any.whl (1.5 MB)\n",
      "   ---------------------------------------- 0.0/1.5 MB ? eta -:--:--\n",
      "   -------- ------------------------------- 0.3/1.5 MB 6.5 MB/s eta 0:00:01\n",
      "   ------------------------- -------------- 1.0/1.5 MB 10.2 MB/s eta 0:00:01\n",
      "   -------------------------------- ------- 1.2/1.5 MB 9.6 MB/s eta 0:00:01\n",
      "   ---------------------------------------- 1.5/1.5 MB 8.7 MB/s eta 0:00:00\n",
      "Downloading regex-2024.11.6-cp311-cp311-win_amd64.whl (274 kB)\n",
      "   ---------------------------------------- 0.0/274.1 kB ? eta -:--:--\n",
      "   ------------------------------------- -- 256.0/274.1 kB 5.2 MB/s eta 0:00:01\n",
      "   ---------------------------------------- 274.1/274.1 kB 4.2 MB/s eta 0:00:00\n",
      "Downloading click-8.1.8-py3-none-any.whl (98 kB)\n",
      "   ---------------------------------------- 0.0/98.2 kB ? eta -:--:--\n",
      "   ---------------------------------------- 98.2/98.2 kB ? eta 0:00:00\n",
      "Downloading tqdm-4.67.1-py3-none-any.whl (78 kB)\n",
      "   ---------------------------------------- 0.0/78.5 kB ? eta -:--:--\n",
      "   ---------------------------------------- 78.5/78.5 kB 4.6 MB/s eta 0:00:00\n",
      "Installing collected packages: tqdm, regex, click, nltk\n",
      "Successfully installed click-8.1.8 nltk-3.9.1 regex-2024.11.6 tqdm-4.67.1\n",
      "Note: you may need to restart the kernel to use updated packages.\n"
     ]
    },
    {
     "name": "stderr",
     "output_type": "stream",
     "text": [
      "\n",
      "[notice] A new release of pip is available: 24.0 -> 25.1.1\n",
      "[notice] To update, run: python.exe -m pip install --upgrade pip\n"
     ]
    }
   ],
   "source": [
    "pip install nltk"
   ]
  },
  {
   "cell_type": "markdown",
   "id": "bf6f87fb",
   "metadata": {},
   "source": [
    " # Apply logic to remove stopwords from each list of tokens\n",
    "\n",
    " - df['clean_text']: access the column of tokenized words\n",
    " - .apply(...): run the lambda function on each row\n",
    " - lambda x: [word for word in x if word not in stop_words]\n",
    "    - this is a list comprehension\n",
    "     - it keeps only the words that are NOT in the stop_words list"
   ]
  },
  {
   "cell_type": "code",
   "execution_count": 11,
   "id": "df9c0545",
   "metadata": {},
   "outputs": [
    {
     "name": "stderr",
     "output_type": "stream",
     "text": [
      "[nltk_data] Downloading package stopwords to\n",
      "[nltk_data]     C:\\Users\\naren\\AppData\\Roaming\\nltk_data...\n",
      "[nltk_data]   Package stopwords is already up-to-date!\n"
     ]
    }
   ],
   "source": [
    "import nltk\n",
    "nltk.download('stopwords')\n",
    "from nltk.corpus import stopwords # import stopwords from nltk (natural language toolkit)\n",
    "# Get the list of stop words in English\n",
    "stop_words = set(stopwords.words('english')) # Load the list of English stopwords\n",
    "#  Remove stop words from the cleaned text\n",
    "df['clean_text'] = df['clean_text'].apply(lambda x: [word for word in x if word not in stop_words])"
   ]
  },
  {
   "cell_type": "markdown",
   "id": "243f0a1f",
   "metadata": {},
   "source": [
    "# Convert label to numbers (Target):"
   ]
  },
  {
   "cell_type": "code",
   "execution_count": 12,
   "id": "30ad6814",
   "metadata": {},
   "outputs": [
    {
     "data": {
      "text/plain": [
       "label\n",
       "0    4516\n",
       "1     653\n",
       "Name: count, dtype: int64"
      ]
     },
     "execution_count": 12,
     "metadata": {},
     "output_type": "execute_result"
    }
   ],
   "source": [
    "df['label'] = df['label'].map({'ham': 0, 'spam': 1})\n",
    "df['label'].value_counts()"
   ]
  },
  {
   "cell_type": "code",
   "execution_count": 13,
   "id": "7ad39704",
   "metadata": {},
   "outputs": [
    {
     "data": {
      "text/html": [
       "<div>\n",
       "<style scoped>\n",
       "    .dataframe tbody tr th:only-of-type {\n",
       "        vertical-align: middle;\n",
       "    }\n",
       "\n",
       "    .dataframe tbody tr th {\n",
       "        vertical-align: top;\n",
       "    }\n",
       "\n",
       "    .dataframe thead th {\n",
       "        text-align: right;\n",
       "    }\n",
       "</style>\n",
       "<table border=\"1\" class=\"dataframe\">\n",
       "  <thead>\n",
       "    <tr style=\"text-align: right;\">\n",
       "      <th></th>\n",
       "      <th>label</th>\n",
       "      <th>text</th>\n",
       "      <th>clean_text</th>\n",
       "    </tr>\n",
       "  </thead>\n",
       "  <tbody>\n",
       "    <tr>\n",
       "      <th>0</th>\n",
       "      <td>0</td>\n",
       "      <td>Go until jurong point, crazy.. Available only ...</td>\n",
       "      <td>[Go, jurong, point, crazy, Available, bugis, n...</td>\n",
       "    </tr>\n",
       "    <tr>\n",
       "      <th>1</th>\n",
       "      <td>0</td>\n",
       "      <td>Ok lar... Joking wif u oni...</td>\n",
       "      <td>[Ok, lar, Joking, wif, u, oni]</td>\n",
       "    </tr>\n",
       "    <tr>\n",
       "      <th>2</th>\n",
       "      <td>1</td>\n",
       "      <td>Free entry in 2 a wkly comp to win FA Cup fina...</td>\n",
       "      <td>[Free, entry, wkly, comp, win, FA, Cup, final,...</td>\n",
       "    </tr>\n",
       "    <tr>\n",
       "      <th>3</th>\n",
       "      <td>0</td>\n",
       "      <td>U dun say so early hor... U c already then say...</td>\n",
       "      <td>[U, dun, say, early, hor, U, c, already, say]</td>\n",
       "    </tr>\n",
       "    <tr>\n",
       "      <th>4</th>\n",
       "      <td>0</td>\n",
       "      <td>Nah I don't think he goes to usf, he lives aro...</td>\n",
       "      <td>[Nah, I, dont, think, goes, usf, lives, around...</td>\n",
       "    </tr>\n",
       "  </tbody>\n",
       "</table>\n",
       "</div>"
      ],
      "text/plain": [
       "   label                                               text  \\\n",
       "0      0  Go until jurong point, crazy.. Available only ...   \n",
       "1      0                      Ok lar... Joking wif u oni...   \n",
       "2      1  Free entry in 2 a wkly comp to win FA Cup fina...   \n",
       "3      0  U dun say so early hor... U c already then say...   \n",
       "4      0  Nah I don't think he goes to usf, he lives aro...   \n",
       "\n",
       "                                          clean_text  \n",
       "0  [Go, jurong, point, crazy, Available, bugis, n...  \n",
       "1                     [Ok, lar, Joking, wif, u, oni]  \n",
       "2  [Free, entry, wkly, comp, win, FA, Cup, final,...  \n",
       "3      [U, dun, say, early, hor, U, c, already, say]  \n",
       "4  [Nah, I, dont, think, goes, usf, lives, around...  "
      ]
     },
     "execution_count": 13,
     "metadata": {},
     "output_type": "execute_result"
    }
   ],
   "source": [
    "df.head()"
   ]
  },
  {
   "cell_type": "markdown",
   "id": "30193e63",
   "metadata": {},
   "source": [
    "# Add Text Length Feature"
   ]
  },
  {
   "cell_type": "code",
   "execution_count": 14,
   "id": "fdf7c9fc",
   "metadata": {},
   "outputs": [
    {
     "data": {
      "text/html": [
       "<div>\n",
       "<style scoped>\n",
       "    .dataframe tbody tr th:only-of-type {\n",
       "        vertical-align: middle;\n",
       "    }\n",
       "\n",
       "    .dataframe tbody tr th {\n",
       "        vertical-align: top;\n",
       "    }\n",
       "\n",
       "    .dataframe thead th {\n",
       "        text-align: right;\n",
       "    }\n",
       "</style>\n",
       "<table border=\"1\" class=\"dataframe\">\n",
       "  <thead>\n",
       "    <tr style=\"text-align: right;\">\n",
       "      <th></th>\n",
       "      <th>label</th>\n",
       "      <th>text</th>\n",
       "      <th>clean_text</th>\n",
       "      <th>text_length</th>\n",
       "    </tr>\n",
       "  </thead>\n",
       "  <tbody>\n",
       "    <tr>\n",
       "      <th>0</th>\n",
       "      <td>0</td>\n",
       "      <td>Go until jurong point, crazy.. Available only ...</td>\n",
       "      <td>[Go, jurong, point, crazy, Available, bugis, n...</td>\n",
       "      <td>16</td>\n",
       "    </tr>\n",
       "    <tr>\n",
       "      <th>1</th>\n",
       "      <td>0</td>\n",
       "      <td>Ok lar... Joking wif u oni...</td>\n",
       "      <td>[Ok, lar, Joking, wif, u, oni]</td>\n",
       "      <td>6</td>\n",
       "    </tr>\n",
       "    <tr>\n",
       "      <th>2</th>\n",
       "      <td>1</td>\n",
       "      <td>Free entry in 2 a wkly comp to win FA Cup fina...</td>\n",
       "      <td>[Free, entry, wkly, comp, win, FA, Cup, final,...</td>\n",
       "      <td>20</td>\n",
       "    </tr>\n",
       "    <tr>\n",
       "      <th>3</th>\n",
       "      <td>0</td>\n",
       "      <td>U dun say so early hor... U c already then say...</td>\n",
       "      <td>[U, dun, say, early, hor, U, c, already, say]</td>\n",
       "      <td>9</td>\n",
       "    </tr>\n",
       "    <tr>\n",
       "      <th>4</th>\n",
       "      <td>0</td>\n",
       "      <td>Nah I don't think he goes to usf, he lives aro...</td>\n",
       "      <td>[Nah, I, dont, think, goes, usf, lives, around...</td>\n",
       "      <td>9</td>\n",
       "    </tr>\n",
       "  </tbody>\n",
       "</table>\n",
       "</div>"
      ],
      "text/plain": [
       "   label                                               text  \\\n",
       "0      0  Go until jurong point, crazy.. Available only ...   \n",
       "1      0                      Ok lar... Joking wif u oni...   \n",
       "2      1  Free entry in 2 a wkly comp to win FA Cup fina...   \n",
       "3      0  U dun say so early hor... U c already then say...   \n",
       "4      0  Nah I don't think he goes to usf, he lives aro...   \n",
       "\n",
       "                                          clean_text  text_length  \n",
       "0  [Go, jurong, point, crazy, Available, bugis, n...           16  \n",
       "1                     [Ok, lar, Joking, wif, u, oni]            6  \n",
       "2  [Free, entry, wkly, comp, win, FA, Cup, final,...           20  \n",
       "3      [U, dun, say, early, hor, U, c, already, say]            9  \n",
       "4  [Nah, I, dont, think, goes, usf, lives, around...            9  "
      ]
     },
     "execution_count": 14,
     "metadata": {},
     "output_type": "execute_result"
    }
   ],
   "source": [
    "# Count number of words in clean_text list\n",
    "df['text_length'] = df['clean_text'].apply(len)\n",
    "df.head()"
   ]
  },
  {
   "cell_type": "markdown",
   "id": "a279423f",
   "metadata": {},
   "source": [
    "# Split the data into training and testing sets:"
   ]
  },
  {
   "cell_type": "code",
   "execution_count": 15,
   "id": "110404b5",
   "metadata": {},
   "outputs": [],
   "source": [
    "# Split Data: Split your data into features (X) and labels (y), then into training and test sets.\n",
    "from sklearn.model_selection import train_test_split\n",
    "\n",
    "X = df['text']           # Features (messages)\n",
    "y = df['label']          # Labels (0 = ham, 1 = spam)\n",
    "\n",
    "X_train, X_test, y_train, y_test = train_test_split(X, y, test_size=0.2, random_state=42)\n",
    "# The random_state parameter ensures that the split is reproducible.\n",
    "# This means that every time you run the code, you'll get the same split of data into training and test sets."
   ]
  },
  {
   "cell_type": "markdown",
   "id": "8a28c860",
   "metadata": {},
   "source": [
    "# Text Vectorization (TF-IDF)\n",
    "\n",
    "Choose a method to convert text to numbers. Start with TF-IDF:"
   ]
  },
  {
   "cell_type": "code",
   "execution_count": 16,
   "id": "5a75c964",
   "metadata": {},
   "outputs": [],
   "source": [
    "from sklearn.feature_extraction.text import TfidfVectorizer\n",
    "\n",
    "tfidf = TfidfVectorizer()\n",
    "X_train_tfidf = tfidf.fit_transform(X_train)\n",
    "X_test_tfidf = tfidf.transform(X_test)\n",
    "\n"
   ]
  },
  {
   "cell_type": "code",
   "execution_count": 17,
   "id": "d0d33e7d",
   "metadata": {},
   "outputs": [
    {
     "data": {
      "text/html": [
       "<div>\n",
       "<style scoped>\n",
       "    .dataframe tbody tr th:only-of-type {\n",
       "        vertical-align: middle;\n",
       "    }\n",
       "\n",
       "    .dataframe tbody tr th {\n",
       "        vertical-align: top;\n",
       "    }\n",
       "\n",
       "    .dataframe thead th {\n",
       "        text-align: right;\n",
       "    }\n",
       "</style>\n",
       "<table border=\"1\" class=\"dataframe\">\n",
       "  <thead>\n",
       "    <tr style=\"text-align: right;\">\n",
       "      <th></th>\n",
       "      <th>label</th>\n",
       "      <th>text</th>\n",
       "      <th>clean_text</th>\n",
       "      <th>text_length</th>\n",
       "    </tr>\n",
       "  </thead>\n",
       "  <tbody>\n",
       "    <tr>\n",
       "      <th>0</th>\n",
       "      <td>0</td>\n",
       "      <td>Go until jurong point, crazy.. Available only ...</td>\n",
       "      <td>[Go, jurong, point, crazy, Available, bugis, n...</td>\n",
       "      <td>16</td>\n",
       "    </tr>\n",
       "    <tr>\n",
       "      <th>1</th>\n",
       "      <td>0</td>\n",
       "      <td>Ok lar... Joking wif u oni...</td>\n",
       "      <td>[Ok, lar, Joking, wif, u, oni]</td>\n",
       "      <td>6</td>\n",
       "    </tr>\n",
       "    <tr>\n",
       "      <th>2</th>\n",
       "      <td>1</td>\n",
       "      <td>Free entry in 2 a wkly comp to win FA Cup fina...</td>\n",
       "      <td>[Free, entry, wkly, comp, win, FA, Cup, final,...</td>\n",
       "      <td>20</td>\n",
       "    </tr>\n",
       "    <tr>\n",
       "      <th>3</th>\n",
       "      <td>0</td>\n",
       "      <td>U dun say so early hor... U c already then say...</td>\n",
       "      <td>[U, dun, say, early, hor, U, c, already, say]</td>\n",
       "      <td>9</td>\n",
       "    </tr>\n",
       "    <tr>\n",
       "      <th>4</th>\n",
       "      <td>0</td>\n",
       "      <td>Nah I don't think he goes to usf, he lives aro...</td>\n",
       "      <td>[Nah, I, dont, think, goes, usf, lives, around...</td>\n",
       "      <td>9</td>\n",
       "    </tr>\n",
       "  </tbody>\n",
       "</table>\n",
       "</div>"
      ],
      "text/plain": [
       "   label                                               text  \\\n",
       "0      0  Go until jurong point, crazy.. Available only ...   \n",
       "1      0                      Ok lar... Joking wif u oni...   \n",
       "2      1  Free entry in 2 a wkly comp to win FA Cup fina...   \n",
       "3      0  U dun say so early hor... U c already then say...   \n",
       "4      0  Nah I don't think he goes to usf, he lives aro...   \n",
       "\n",
       "                                          clean_text  text_length  \n",
       "0  [Go, jurong, point, crazy, Available, bugis, n...           16  \n",
       "1                     [Ok, lar, Joking, wif, u, oni]            6  \n",
       "2  [Free, entry, wkly, comp, win, FA, Cup, final,...           20  \n",
       "3      [U, dun, say, early, hor, U, c, already, say]            9  \n",
       "4  [Nah, I, dont, think, goes, usf, lives, around...            9  "
      ]
     },
     "execution_count": 17,
     "metadata": {},
     "output_type": "execute_result"
    }
   ],
   "source": [
    "df.head()"
   ]
  }
 ],
 "metadata": {
  "kernelspec": {
   "display_name": "Python 3",
   "language": "python",
   "name": "python3"
  },
  "language_info": {
   "codemirror_mode": {
    "name": "ipython",
    "version": 3
   },
   "file_extension": ".py",
   "mimetype": "text/x-python",
   "name": "python",
   "nbconvert_exporter": "python",
   "pygments_lexer": "ipython3",
   "version": "3.11.9"
  }
 },
 "nbformat": 4,
 "nbformat_minor": 5
}
