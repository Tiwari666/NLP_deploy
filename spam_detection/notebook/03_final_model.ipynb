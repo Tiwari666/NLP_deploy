{
 "cells": [
  {
   "cell_type": "markdown",
   "id": "76dba4cc",
   "metadata": {},
   "source": [
    "#  Import Models"
   ]
  },
  {
   "cell_type": "code",
   "execution_count": 1,
   "id": "3381a385",
   "metadata": {},
   "outputs": [
    {
     "data": {
      "text/html": [
       "<div>\n",
       "<style scoped>\n",
       "    .dataframe tbody tr th:only-of-type {\n",
       "        vertical-align: middle;\n",
       "    }\n",
       "\n",
       "    .dataframe tbody tr th {\n",
       "        vertical-align: top;\n",
       "    }\n",
       "\n",
       "    .dataframe thead th {\n",
       "        text-align: right;\n",
       "    }\n",
       "</style>\n",
       "<table border=\"1\" class=\"dataframe\">\n",
       "  <thead>\n",
       "    <tr style=\"text-align: right;\">\n",
       "      <th></th>\n",
       "      <th>label</th>\n",
       "      <th>text</th>\n",
       "      <th>clean_text</th>\n",
       "    </tr>\n",
       "  </thead>\n",
       "  <tbody>\n",
       "    <tr>\n",
       "      <th>0</th>\n",
       "      <td>ham</td>\n",
       "      <td>Go until jurong point, crazy.. Available only ...</td>\n",
       "      <td>[go, until, jurong, point, crazy, available, o...</td>\n",
       "    </tr>\n",
       "    <tr>\n",
       "      <th>1</th>\n",
       "      <td>ham</td>\n",
       "      <td>Ok lar... Joking wif u oni...</td>\n",
       "      <td>[ok, lar, joking, wif, u, oni]</td>\n",
       "    </tr>\n",
       "    <tr>\n",
       "      <th>2</th>\n",
       "      <td>spam</td>\n",
       "      <td>Free entry in 2 a wkly comp to win FA Cup fina...</td>\n",
       "      <td>[free, entry, in, a, wkly, comp, to, win, fa, ...</td>\n",
       "    </tr>\n",
       "    <tr>\n",
       "      <th>3</th>\n",
       "      <td>ham</td>\n",
       "      <td>U dun say so early hor... U c already then say...</td>\n",
       "      <td>[u, dun, say, so, early, hor, u, c, already, t...</td>\n",
       "    </tr>\n",
       "    <tr>\n",
       "      <th>4</th>\n",
       "      <td>ham</td>\n",
       "      <td>Nah I don't think he goes to usf, he lives aro...</td>\n",
       "      <td>[nah, i, dont, think, he, goes, to, usf, he, l...</td>\n",
       "    </tr>\n",
       "  </tbody>\n",
       "</table>\n",
       "</div>"
      ],
      "text/plain": [
       "  label                                               text  \\\n",
       "0   ham  Go until jurong point, crazy.. Available only ...   \n",
       "1   ham                      Ok lar... Joking wif u oni...   \n",
       "2  spam  Free entry in 2 a wkly comp to win FA Cup fina...   \n",
       "3   ham  U dun say so early hor... U c already then say...   \n",
       "4   ham  Nah I don't think he goes to usf, he lives aro...   \n",
       "\n",
       "                                          clean_text  \n",
       "0  [go, until, jurong, point, crazy, available, o...  \n",
       "1                     [ok, lar, joking, wif, u, oni]  \n",
       "2  [free, entry, in, a, wkly, comp, to, win, fa, ...  \n",
       "3  [u, dun, say, so, early, hor, u, c, already, t...  \n",
       "4  [nah, i, dont, think, he, goes, to, usf, he, l...  "
      ]
     },
     "execution_count": 1,
     "metadata": {},
     "output_type": "execute_result"
    }
   ],
   "source": [
    "import sys\n",
    "sys.path.append('../data')  # ✅ go from /notebook to /data\n",
    "\n",
    "from data_loader import load_clean_data  # ✅ import the correct function\n",
    "\n",
    "# 🔃 Load the data\n",
    "df = load_clean_data()\n",
    "df.head()"
   ]
  },
  {
   "cell_type": "code",
   "execution_count": 2,
   "id": "5811845d",
   "metadata": {},
   "outputs": [
    {
     "data": {
      "text/html": [
       "<div>\n",
       "<style scoped>\n",
       "    .dataframe tbody tr th:only-of-type {\n",
       "        vertical-align: middle;\n",
       "    }\n",
       "\n",
       "    .dataframe tbody tr th {\n",
       "        vertical-align: top;\n",
       "    }\n",
       "\n",
       "    .dataframe thead th {\n",
       "        text-align: right;\n",
       "    }\n",
       "</style>\n",
       "<table border=\"1\" class=\"dataframe\">\n",
       "  <thead>\n",
       "    <tr style=\"text-align: right;\">\n",
       "      <th></th>\n",
       "      <th>label</th>\n",
       "      <th>text</th>\n",
       "      <th>clean_text</th>\n",
       "    </tr>\n",
       "  </thead>\n",
       "  <tbody>\n",
       "    <tr>\n",
       "      <th>0</th>\n",
       "      <td>ham</td>\n",
       "      <td>Go until jurong point, crazy.. Available only ...</td>\n",
       "      <td>[go, until, jurong, point, crazy, available, o...</td>\n",
       "    </tr>\n",
       "    <tr>\n",
       "      <th>1</th>\n",
       "      <td>ham</td>\n",
       "      <td>Ok lar... Joking wif u oni...</td>\n",
       "      <td>[ok, lar, joking, wif, u, oni]</td>\n",
       "    </tr>\n",
       "    <tr>\n",
       "      <th>2</th>\n",
       "      <td>spam</td>\n",
       "      <td>Free entry in 2 a wkly comp to win FA Cup fina...</td>\n",
       "      <td>[free, entry, in, a, wkly, comp, to, win, fa, ...</td>\n",
       "    </tr>\n",
       "    <tr>\n",
       "      <th>3</th>\n",
       "      <td>ham</td>\n",
       "      <td>U dun say so early hor... U c already then say...</td>\n",
       "      <td>[u, dun, say, so, early, hor, u, c, already, t...</td>\n",
       "    </tr>\n",
       "    <tr>\n",
       "      <th>4</th>\n",
       "      <td>ham</td>\n",
       "      <td>Nah I don't think he goes to usf, he lives aro...</td>\n",
       "      <td>[nah, i, dont, think, he, goes, to, usf, he, l...</td>\n",
       "    </tr>\n",
       "  </tbody>\n",
       "</table>\n",
       "</div>"
      ],
      "text/plain": [
       "  label                                               text  \\\n",
       "0   ham  Go until jurong point, crazy.. Available only ...   \n",
       "1   ham                      Ok lar... Joking wif u oni...   \n",
       "2  spam  Free entry in 2 a wkly comp to win FA Cup fina...   \n",
       "3   ham  U dun say so early hor... U c already then say...   \n",
       "4   ham  Nah I don't think he goes to usf, he lives aro...   \n",
       "\n",
       "                                          clean_text  \n",
       "0  [go, until, jurong, point, crazy, available, o...  \n",
       "1                     [ok, lar, joking, wif, u, oni]  \n",
       "2  [free, entry, in, a, wkly, comp, to, win, fa, ...  \n",
       "3  [u, dun, say, so, early, hor, u, c, already, t...  \n",
       "4  [nah, i, dont, think, he, goes, to, usf, he, l...  "
      ]
     },
     "execution_count": 2,
     "metadata": {},
     "output_type": "execute_result"
    }
   ],
   "source": [
    "df.head()"
   ]
  },
  {
   "cell_type": "markdown",
   "id": "9c15118c",
   "metadata": {},
   "source": [
    "## Add Text Length Feature"
   ]
  },
  {
   "cell_type": "code",
   "execution_count": 3,
   "id": "51dc5128",
   "metadata": {},
   "outputs": [
    {
     "data": {
      "text/html": [
       "<div>\n",
       "<style scoped>\n",
       "    .dataframe tbody tr th:only-of-type {\n",
       "        vertical-align: middle;\n",
       "    }\n",
       "\n",
       "    .dataframe tbody tr th {\n",
       "        vertical-align: top;\n",
       "    }\n",
       "\n",
       "    .dataframe thead th {\n",
       "        text-align: right;\n",
       "    }\n",
       "</style>\n",
       "<table border=\"1\" class=\"dataframe\">\n",
       "  <thead>\n",
       "    <tr style=\"text-align: right;\">\n",
       "      <th></th>\n",
       "      <th>label</th>\n",
       "      <th>text</th>\n",
       "      <th>clean_text</th>\n",
       "      <th>text_length</th>\n",
       "    </tr>\n",
       "  </thead>\n",
       "  <tbody>\n",
       "    <tr>\n",
       "      <th>0</th>\n",
       "      <td>ham</td>\n",
       "      <td>Go until jurong point, crazy.. Available only ...</td>\n",
       "      <td>[go, until, jurong, point, crazy, available, o...</td>\n",
       "      <td>20</td>\n",
       "    </tr>\n",
       "    <tr>\n",
       "      <th>1</th>\n",
       "      <td>ham</td>\n",
       "      <td>Ok lar... Joking wif u oni...</td>\n",
       "      <td>[ok, lar, joking, wif, u, oni]</td>\n",
       "      <td>6</td>\n",
       "    </tr>\n",
       "    <tr>\n",
       "      <th>2</th>\n",
       "      <td>spam</td>\n",
       "      <td>Free entry in 2 a wkly comp to win FA Cup fina...</td>\n",
       "      <td>[free, entry, in, a, wkly, comp, to, win, fa, ...</td>\n",
       "      <td>25</td>\n",
       "    </tr>\n",
       "    <tr>\n",
       "      <th>3</th>\n",
       "      <td>ham</td>\n",
       "      <td>U dun say so early hor... U c already then say...</td>\n",
       "      <td>[u, dun, say, so, early, hor, u, c, already, t...</td>\n",
       "      <td>11</td>\n",
       "    </tr>\n",
       "    <tr>\n",
       "      <th>4</th>\n",
       "      <td>ham</td>\n",
       "      <td>Nah I don't think he goes to usf, he lives aro...</td>\n",
       "      <td>[nah, i, dont, think, he, goes, to, usf, he, l...</td>\n",
       "      <td>13</td>\n",
       "    </tr>\n",
       "  </tbody>\n",
       "</table>\n",
       "</div>"
      ],
      "text/plain": [
       "  label                                               text  \\\n",
       "0   ham  Go until jurong point, crazy.. Available only ...   \n",
       "1   ham                      Ok lar... Joking wif u oni...   \n",
       "2  spam  Free entry in 2 a wkly comp to win FA Cup fina...   \n",
       "3   ham  U dun say so early hor... U c already then say...   \n",
       "4   ham  Nah I don't think he goes to usf, he lives aro...   \n",
       "\n",
       "                                          clean_text  text_length  \n",
       "0  [go, until, jurong, point, crazy, available, o...           20  \n",
       "1                     [ok, lar, joking, wif, u, oni]            6  \n",
       "2  [free, entry, in, a, wkly, comp, to, win, fa, ...           25  \n",
       "3  [u, dun, say, so, early, hor, u, c, already, t...           11  \n",
       "4  [nah, i, dont, think, he, goes, to, usf, he, l...           13  "
      ]
     },
     "execution_count": 3,
     "metadata": {},
     "output_type": "execute_result"
    }
   ],
   "source": [
    "# Count number of words in clean_text list\n",
    "df['text_length'] = df['clean_text'].apply(len)\n",
    "df.head()"
   ]
  },
  {
   "cell_type": "markdown",
   "id": "e5c16079",
   "metadata": {},
   "source": [
    "#  Split the text and labels"
   ]
  },
  {
   "cell_type": "code",
   "execution_count": 4,
   "id": "8ca482b7",
   "metadata": {},
   "outputs": [],
   "source": [
    "from sklearn.model_selection import train_test_split\n",
    "\n",
    "# Join clean words back into full sentences\n",
    "X = df['clean_text'].apply(lambda x: ' '.join(x))\n",
    "y = df['label']\n",
    "\n",
    "# Split into train and test sets\n",
    "X_train_text, X_test_text, y_train, y_test = train_test_split(\n",
    "    X, y, test_size=0.2, random_state=42\n",
    ")\n"
   ]
  },
  {
   "cell_type": "markdown",
   "id": "8c0e9114",
   "metadata": {},
   "source": [
    "#  Vectorize with TF-IDF\n"
   ]
  },
  {
   "cell_type": "code",
   "execution_count": 5,
   "id": "350b651f",
   "metadata": {},
   "outputs": [],
   "source": [
    "from sklearn.feature_extraction.text import TfidfVectorizer\n",
    "\n",
    "# Initialize TF-IDF vectorizer\n",
    "tfidf = TfidfVectorizer()\n",
    "\n",
    "# Fit on training text, transform both\n",
    "X_train = tfidf.fit_transform(X_train_text)\n",
    "X_test = tfidf.transform(X_test_text)"
   ]
  },
  {
   "cell_type": "markdown",
   "id": "87b33ec2",
   "metadata": {},
   "source": [
    "# Create Models to Compare\n",
    "\n",
    "Import Libraries"
   ]
  },
  {
   "cell_type": "code",
   "execution_count": 6,
   "id": "f44d4dff",
   "metadata": {},
   "outputs": [],
   "source": [
    "from sklearn.pipeline import Pipeline\n",
    "from sklearn.feature_extraction.text import TfidfVectorizer\n",
    "from sklearn.linear_model import LogisticRegression\n",
    "from sklearn.naive_bayes import MultinomialNB\n",
    "from sklearn.svm import LinearSVC\n",
    "from sklearn.tree import DecisionTreeClassifier\n",
    "from sklearn.ensemble import RandomForestClassifier\n",
    "from sklearn.metrics import accuracy_score, precision_score, recall_score, f1_score\n",
    "import numpy as np\n",
    "import pandas as pd"
   ]
  },
  {
   "cell_type": "code",
   "execution_count": 7,
   "id": "64ba2663",
   "metadata": {},
   "outputs": [],
   "source": [
    "# Define models\n",
    "models = {\n",
    "    \"Logistic Regression\": LogisticRegression(),\n",
    "    \"Naive Bayes\": MultinomialNB(),\n",
    "    \"Linear SVM\": LinearSVC(),\n",
    "    \"Decision Tree\": DecisionTreeClassifier(),\n",
    "    \"Random Forest\": RandomForestClassifier()\n",
    "}\n"
   ]
  },
  {
   "cell_type": "code",
   "execution_count": 8,
   "id": "b81c6e0d",
   "metadata": {},
   "outputs": [
    {
     "name": "stdout",
     "output_type": "stream",
     "text": [
      "                 Model  Accuracy  Precision    Recall  F1 Score\n",
      "0  Logistic Regression  0.962282   0.973214  0.751724  0.848249\n",
      "1          Naive Bayes  0.945841   1.000000  0.613793  0.760684\n",
      "2           Linear SVM  0.981625   0.963235  0.903448  0.932384\n",
      "3        Decision Tree  0.948743   0.828571  0.800000  0.814035\n",
      "4        Random Forest  0.966151   0.991071  0.765517  0.863813\n"
     ]
    }
   ],
   "source": [
    "# Store results\n",
    "results = []\n",
    "\n",
    "# Loop through models\n",
    "for name, model in models.items():\n",
    "    pipeline = Pipeline([\n",
    "        ('tfidf', TfidfVectorizer()),\n",
    "        ('clf', model)\n",
    "    ])\n",
    "    \n",
    "    pipeline.fit(X_train_text, y_train)\n",
    "    y_pred = pipeline.predict(X_test_text)\n",
    "\n",
    "    results.append({\n",
    "        \"Model\": name,\n",
    "        \"Accuracy\": accuracy_score(y_test, y_pred),\n",
    "        \"Precision\": precision_score(y_test, y_pred, pos_label='spam'),\n",
    "        \"Recall\": recall_score(y_test, y_pred, pos_label='spam'),\n",
    "        \"F1 Score\": f1_score(y_test, y_pred, pos_label='spam')\n",
    "    })\n",
    "\n",
    "# Show results\n",
    "results_df = pd.DataFrame(results)\n",
    "print(results_df)"
   ]
  },
  {
   "cell_type": "code",
   "execution_count": 9,
   "id": "9084a31e",
   "metadata": {},
   "outputs": [
    {
     "data": {
      "image/png": "[encoded data removed]",
      "text/plain": [
       "<Figure size 1200x600 with 1 Axes>"
      ]
     },
     "metadata": {},
     "output_type": "display_data"
    }
   ],
   "source": [
    "import matplotlib.pyplot as plt\n",
    "import numpy as np\n",
    "\n",
    "# Metrics to plot\n",
    "metrics = ['Accuracy', 'Precision', 'Recall', 'F1 Score']\n",
    "\n",
    "# Create x locations for each model\n",
    "x = np.arange(len(results_df['Model']))\n",
    "width = 0.2  # Width of each bar\n",
    "\n",
    "# Plot\n",
    "plt.figure(figsize=(12, 6))\n",
    "\n",
    "for i, metric in enumerate(metrics):\n",
    "    plt.bar(x + i * width, results_df[metric], width, label=metric)\n",
    "\n",
    "# Labels and title\n",
    "plt.xlabel('Model')\n",
    "plt.ylabel('Score')\n",
    "plt.title('Comparison of Model Performance Metrics')\n",
    "plt.xticks(x + width * 1.5, results_df['Model'], rotation=45)\n",
    "plt.ylim(0, 1)\n",
    "plt.legend()\n",
    "plt.tight_layout()\n",
    "plt.show()\n"
   ]
  },
  {
   "cell_type": "markdown",
   "id": "a996e03e",
   "metadata": {},
   "source": [
    "# Step-by-Step Plan\n",
    "\n",
    "🔁 Step 1: Cross-Validation (CV):\n",
    "\n",
    "Use cross_val_score to check how stable your models are across different subsets of data.\n",
    "\n",
    "🔍 Step 2: Select Top Models:\n",
    "\n",
    "Based on F1 or Precision, pick the top 2–3 models for tuning (e.g., SVM, Random Forest, Logistic Regression).\n",
    "\n",
    "🎯 Step 3: RandomizedSearchCV for Hyperparameter Tuning:\n",
    "\n",
    "Tune those selected models using RandomizedSearchCV to find the best parameters efficiently.\n",
    "\n",
    "📈 Step 4: Retrain + Evaluate:\n",
    "\n",
    "Use the best hyperparameters, retrain, and compare results again."
   ]
  },
  {
   "cell_type": "markdown",
   "id": "fc10af61",
   "metadata": {},
   "source": [
    "# Cross-Validation :\n",
    "using 5-fold CV for each model:"
   ]
  },
  {
   "cell_type": "code",
   "execution_count": 10,
   "id": "8a6a5c12",
   "metadata": {},
   "outputs": [
    {
     "name": "stdout",
     "output_type": "stream",
     "text": [
      "                 Model  Mean F1 (CV)   Std Dev\n",
      "0  Logistic Regression      0.887076  0.009537\n",
      "1          Naive Bayes      0.818799  0.019640\n",
      "2           Linear SVM      0.953228  0.006948\n",
      "3        Decision Tree      0.886915  0.005659\n",
      "4        Random Forest      0.902902  0.002850\n"
     ]
    }
   ],
   "source": [
    "from sklearn.model_selection import cross_val_score\n",
    "\n",
    "cv_results = []\n",
    "\n",
    "for name, model in models.items():\n",
    "    pipeline = Pipeline([\n",
    "        ('tfidf', TfidfVectorizer()),\n",
    "        ('clf', model)\n",
    "    ])\n",
    "\n",
    "    # 5-fold CV on training data\n",
    "    scores = cross_val_score(pipeline, X_train_text, y_train, cv=5, scoring='f1_macro')\n",
    "    cv_results.append({\n",
    "        'Model': name,\n",
    "        'Mean F1 (CV)': scores.mean(),\n",
    "        'Std Dev': scores.std()\n",
    "    })\n",
    "\n",
    "cv_df = pd.DataFrame(cv_results)\n",
    "print(cv_df)"
   ]
  },
  {
   "cell_type": "markdown",
   "id": "6b9f1e02",
   "metadata": {},
   "source": [
    "# Conclusion:\n",
    "\n",
    "Based on the cross-validation results, Linear SVM, Logistic Regression, and Random Forest achieved the highest average F1 scores with relatively low standard deviations. This indicates that their performance is both strong and consistent across folds, making them the best candidates for hyperparameter tuning using RandomizedSearchCV.\n"
   ]
  },
  {
   "cell_type": "markdown",
   "id": "3a9c7095",
   "metadata": {},
   "source": [
    "# RandomizedSearchCV for Hyperparameter Tuning:"
   ]
  },
  {
   "cell_type": "code",
   "execution_count": 11,
   "id": "b87236b7",
   "metadata": {},
   "outputs": [
    {
     "name": "stderr",
     "output_type": "stream",
     "text": [
      "c:\\Users\\naren\\AppData\\Local\\Programs\\Python\\Python311\\Lib\\site-packages\\sklearn\\model_selection\\_search.py:317: UserWarning: The total space of parameters 4 is smaller than n_iter=5. Running 4 iterations. For exhaustive searches, use GridSearchCV.\n",
      "  warnings.warn(\n"
     ]
    },
    {
     "name": "stdout",
     "output_type": "stream",
     "text": [
      "Logistic Regression best params: {'clf__C': 10}\n",
      "Logistic Regression best score: 0.9411359542523372\n"
     ]
    },
    {
     "name": "stderr",
     "output_type": "stream",
     "text": [
      "c:\\Users\\naren\\AppData\\Local\\Programs\\Python\\Python311\\Lib\\site-packages\\sklearn\\model_selection\\_search.py:317: UserWarning: The total space of parameters 4 is smaller than n_iter=5. Running 4 iterations. For exhaustive searches, use GridSearchCV.\n",
      "  warnings.warn(\n"
     ]
    },
    {
     "name": "stdout",
     "output_type": "stream",
     "text": [
      "Linear SVM best params: {'clf__C': 10}\n",
      "Linear SVM best score: 0.9512599026801679\n",
      "Random Forest best params: {'clf__n_estimators': 100, 'clf__max_depth': None}\n",
      "Random Forest best score: 0.898923284066595\n"
     ]
    }
   ],
   "source": [
    "from sklearn.model_selection import RandomizedSearchCV\n",
    "\n",
    "# Define hyperparameter grids\n",
    "param_grids = {\n",
    "    \"Logistic Regression\": {\n",
    "        'clf__C': [0.01, 0.1, 1, 10]\n",
    "    },\n",
    "    \"Linear SVM\": {\n",
    "        'clf__C': [0.01, 0.1, 1, 10]\n",
    "    },\n",
    "    \"Random Forest\": {\n",
    "        'clf__n_estimators': [50, 100, 200],\n",
    "        'clf__max_depth': [None, 10, 20]\n",
    "    }\n",
    "}\n",
    "\n",
    "best_models = {}\n",
    "\n",
    "# Run RandomizedSearchCV\n",
    "for name in ['Logistic Regression', 'Linear SVM', 'Random Forest']:\n",
    "    pipe = Pipeline([\n",
    "        ('tfidf', TfidfVectorizer()),\n",
    "        ('clf', models[name])\n",
    "    ])\n",
    "    \n",
    "    search = RandomizedSearchCV(pipe, param_grids[name], n_iter=5, cv=3, scoring='f1_macro', random_state=42)\n",
    "    search.fit(X_train_text, y_train)\n",
    "    \n",
    "    best_models[name] = search.best_estimator_\n",
    "    #This block automatically finds the best parameters and stores them in best_models.\n",
    "    print(f\"{name} best params: {search.best_params_}\")\n",
    "    print(f\"{name} best score: {search.best_score_}\")"
   ]
  },
  {
   "cell_type": "markdown",
   "id": "712b3f13",
   "metadata": {},
   "source": [
    "#  Conclusion :\n",
    "\n",
    "We have now successfully tuned the best three models using RandomizedSearchCV. Each model has been optimized with the best hyperparameters. Let's now evaluate these tuned models on the test set to compare their final real-world performance."
   ]
  },
  {
   "cell_type": "markdown",
   "id": "f3a129f8",
   "metadata": {},
   "source": [
    "# Evaluate Tuned Models on the Test Set"
   ]
  },
  {
   "cell_type": "code",
   "execution_count": 12,
   "id": "947bedb5",
   "metadata": {},
   "outputs": [
    {
     "name": "stdout",
     "output_type": "stream",
     "text": [
      "                 Model  Accuracy  Precision    Recall  F1 Score\n",
      "0  Logistic Regression  0.978723   0.942446  0.903448  0.922535\n",
      "1           Linear SVM  0.982592   0.956835  0.917241  0.936620\n",
      "2        Random Forest  0.970019   0.991379  0.793103  0.881226\n"
     ]
    }
   ],
   "source": [
    "from sklearn.metrics import accuracy_score, precision_score, recall_score, f1_score\n",
    "import pandas as pd\n",
    "\n",
    "# Compare final tuned models on test set\n",
    "final_results = []\n",
    "\n",
    "for name, model in best_models.items():\n",
    "    y_pred = model.predict(X_test_text)\n",
    "    final_results.append({\n",
    "        \"Model\": name,\n",
    "        \"Accuracy\": accuracy_score(y_test, y_pred),\n",
    "        \"Precision\": precision_score(y_test, y_pred, pos_label='spam'),\n",
    "        \"Recall\": recall_score(y_test, y_pred, pos_label='spam'),\n",
    "        \"F1 Score\": f1_score(y_test, y_pred, pos_label='spam')\n",
    "    })\n",
    "\n",
    "# Create a DataFrame\n",
    "final_df = pd.DataFrame(final_results)\n",
    "print(final_df)"
   ]
  },
  {
   "cell_type": "markdown",
   "id": "8e9365d5",
   "metadata": {},
   "source": [
    "#  Identify the best model"
   ]
  },
  {
   "cell_type": "code",
   "execution_count": 13,
   "id": "2dad2661",
   "metadata": {},
   "outputs": [
    {
     "name": "stdout",
     "output_type": "stream",
     "text": [
      "Best Model: Linear SVM\n"
     ]
    }
   ],
   "source": [
    "# Find the model with the highest F1 Score\n",
    "best_row = final_df.loc[final_df['F1 Score'].idxmax()]\n",
    "best_model_name = best_row['Model']\n",
    "print(\"Best Model:\", best_model_name)\n",
    "\n",
    "# Get the actual model object from best_models\n",
    "best_model = best_models[best_model_name]"
   ]
  },
  {
   "cell_type": "markdown",
   "id": "80daf068",
   "metadata": {},
   "source": [
    "# Conclusion:\n",
    "\n",
    "Among all tuned models, Linear SVM performs the best overall with the highest accuracy (98.26%) and F1 score (93.66%), indicating strong and balanced performance on both spam and ham detection.\n"
   ]
  },
  {
   "cell_type": "markdown",
   "id": "e76a9d6e",
   "metadata": {},
   "source": [
    "# Save the Best Model using joblib:\n",
    "Let’s now save the best-performing model (Linear SVM) so that we can reuse it later without retraining."
   ]
  },
  {
   "cell_type": "code",
   "execution_count": 18,
   "id": "72db373e",
   "metadata": {},
   "outputs": [
    {
     "name": "stdout",
     "output_type": "stream",
     "text": [
      "Model saved at: ..\\FlaskApp\\model\\best_spam_model.pkl\n"
     ]
    }
   ],
   "source": [
    "import os\n",
    "import joblib\n",
    "\n",
    "# Go one directory up from \"notebook\" to access FlaskApp\n",
    "model_dir = os.path.join('..', 'FlaskApp', 'model')\n",
    "model_path = os.path.join(model_dir, 'best_spam_model.pkl')\n",
    "\n",
    "# Ensure directory exists\n",
    "os.makedirs(model_dir, exist_ok=True)\n",
    "\n",
    "# Save the model\n",
    "joblib.dump(best_models['Linear SVM'], model_path)\n",
    "\n",
    "print(f\"Model saved at: {model_path}\")"
   ]
  },
  {
   "cell_type": "markdown",
   "id": "433d80ee",
   "metadata": {},
   "source": [
    "# Load the Saved Model\n",
    "\n",
    "my model is here: spam_detection/FlaskApp/model/best_spam_model.pkl\n",
    "\n",
    "and \n",
    "\n",
    "my notebook is here: spam_detection/notebook/03_final_model.ipynb\n",
    "\n",
    "so, use the relative path shown by '..'\n",
    "\n"
   ]
  },
  {
   "cell_type": "code",
   "execution_count": 20,
   "id": "47d5bd1b",
   "metadata": {},
   "outputs": [
    {
     "name": "stdout",
     "output_type": "stream",
     "text": [
      "Model loaded successfully!\n"
     ]
    }
   ],
   "source": [
    "import joblib\n",
    "import os\n",
    "\n",
    "# Go up one level from notebook, then into FlaskApp/model\n",
    "model_path = os.path.join('..', 'FlaskApp', 'model', 'best_spam_model.pkl')\n",
    "model = joblib.load(model_path)\n",
    "\n",
    "print(\"Model loaded successfully!\")"
   ]
  },
  {
   "cell_type": "markdown",
   "id": "36ab5f98",
   "metadata": {},
   "source": [
    "# Predict on New Messages"
   ]
  },
  {
   "cell_type": "code",
   "execution_count": 22,
   "id": "8c1706c0",
   "metadata": {},
   "outputs": [
    {
     "name": "stdout",
     "output_type": "stream",
     "text": [
      "'Congratulations! You've won a free ticket to Bahamas. Claim now!' ➡️ spam\n",
      "'Hey, are we still meeting tomorrow?' ➡️ ham\n"
     ]
    }
   ],
   "source": [
    "# Sample messages to predict\n",
    "messages = [\n",
    "    \"Congratulations! You've won a free ticket to Bahamas. Claim now!\",\n",
    "    \"Hey, are we still meeting tomorrow?\"\n",
    "]\n",
    "\n",
    "# Predict\n",
    "predictions = model.predict(messages)\n",
    "\n",
    "# Show results\n",
    "for msg, label in zip(messages, predictions):\n",
    "    print(f\"'{msg}' ➡️ {label}\")"
   ]
  },
  {
   "attachments": {
    "image.png": {
     "image/png": "[encoded data removed]"
    }
   },
   "cell_type": "markdown",
   "id": "482575e4",
   "metadata": {},
   "source": [
    "# What You Did Just Now: creating FlaskApp directory\n",
    "\n",
    "Local Deployment (aka local development server)\n",
    "\n",
    "✅ This is local — it works only on your computer.\n",
    "\n",
    "❌ Nobody else can access it on their phone or browser.\n",
    "\n",
    "❌ Not suitable for real users or production use.\n",
    "\n",
    "\n",
    "# Simple Analogy:\n",
    "![image.png](attachment:image.png)\n",
    "\n",
    "\n",
    "| Type              | Who can use it?    | Internet Needed? | Good for?           |\n",
    "| ----------------- | ------------------ | ---------------- | ------------------- |\n",
    "| **Local run**     | Only you (your PC) | ❌ Optional       | Testing & debugging |\n",
    "| **Online deploy** | Anyone (worldwide) | ✅ Yes            | Real users, sharing |\n",
    "\n"
   ]
  },
  {
   "cell_type": "markdown",
   "id": "01b6dd84",
   "metadata": {},
   "source": [
    "# What’s Next? Online deploymetn ( access to everyone across the world)\n",
    "\n",
    "### 🌐 What is Deployment?\n",
    "\n",
    "✅ Deployment = Putting your app online so:\n",
    "\n",
    "Anyone can visit it from anywhere (like a real website)\n",
    "\n",
    "It's hosted on a web server (e.g., Render, Heroku, Hugging Face, AWS, etc.)\n",
    "\n",
    "It uses a production WSGI server like gunicorn, not just python app.py\n",
    "\n"
   ]
  },
  {
   "cell_type": "markdown",
   "id": "48d0c0e9",
   "metadata": {},
   "source": [
    "# Hosting Platforms / Deployment Platforms:\n",
    "They let you host your Flask app so it runs on the web (online).\n",
    "\n",
    "## Common Tools for Deployment (Deployment Platforms)\n",
    "| Platform         | Type                  | Free Plan?      | Best For                                    |\n",
    "| ---------------- | --------------------- | --------------- | ------------------------------------------- |\n",
    "| **Render**       | Web App Hosting       | ✅ Yes           | Python Flask apps (easy setup)              |\n",
    "| **Hugging Face** | ML App Hosting        | ✅ Yes           | Data science, ML demos                      |\n",
    "| **Heroku**       | Web Hosting (Pausing) | ⚠️ Limited      | Flask/Node apps (but now limited free tier) |\n",
    "| **Vercel**       | Frontend Hosting      | ⚠️ JS only      | React/Next.js apps only                     |\n",
    "| **AWS EC2**      | Cloud Server          | ⚠️ Free trial   | Full control, complex setup                 |\n",
    "| **Google Cloud** | Cloud Platform        | ⚠️ Free credits | Enterprise-level apps                       |\n"
   ]
  },
  {
   "cell_type": "markdown",
   "id": "9339847b",
   "metadata": {},
   "source": [
    "# Why Deployment Using Render?\n",
    "\n",
    "Render.com — easiest for Flask + free\n",
    "\n",
    "✅ No setup headache\n",
    "\n",
    "✅ Works with GitHub\n",
    "\n",
    "✅ Supports Flask natively\n",
    "\n",
    "✅ Free tier (web service, auto-redeploy)"
   ]
  },
  {
   "cell_type": "markdown",
   "id": "07c7bcc4",
   "metadata": {},
   "source": []
  }
 ],
 "metadata": {
  "kernelspec": {
   "display_name": "Python 3",
   "language": "python",
   "name": "python3"
  },
  "language_info": {
   "codemirror_mode": {
    "name": "ipython",
    "version": 3
   },
   "file_extension": ".py",
   "mimetype": "text/x-python",
   "name": "python",
   "nbconvert_exporter": "python",
   "pygments_lexer": "ipython3",
   "version": "3.11.9"
  }
 },
 "nbformat": 4,
 "nbformat_minor": 5
}
